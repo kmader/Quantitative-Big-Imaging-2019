{
 "cells": [
  {
   "cell_type": "markdown",
   "metadata": {
    "slideshow": {
     "slide_type": "slide"
    }
   },
   "source": [
    "\n",
    "# ETHZ: 227-0966-00L\n",
    "# Quantitative Big Imaging\n",
    "# February 28, 2019\n",
    "\n",
    "## Ground Truth: Building and Augmenting Datasets\n",
    "\n"
   ]
  },
  {
   "cell_type": "markdown",
   "metadata": {
    "slideshow": {
     "slide_type": "slide"
    }
   },
   "source": [
    "# Overview\n",
    "\n",
    "## Motivation\n",
    "\n",
    "## Creating Datasets\n",
    "- Famous Datasets\n",
    "- What makes a good dataet?\n",
    "- Types of Datasets\n",
    "- Experiments with Datasets\n",
    "- Building your own \n",
    " - \"scrape, mine, move, annotate, review, and preprocess\" - Kathy Scott\n",
    " - simulations\n",
    "\n",
    "## Augmentation\n",
    "- How can you artifically increase the size of your dataset?\n",
    "- What are the limits of these increases\n",
    "\n",
    "## Baselines\n",
    "- What is a baseline?\n",
    "- Nearest Neighbor"
   ]
  },
  {
   "cell_type": "markdown",
   "metadata": {
    "slideshow": {
     "slide_type": "slide"
    }
   },
   "source": [
    "# References\n",
    "\n",
    "- Revisiting **Unreasonable Effectiveness of Data** in Deep Learning Era: https://arxiv.org/abs/1707.02968\n",
    "- Python Machine Learning 2nd Edition by Sebastian Raschka, Packt Publishing Ltd. 2017\n",
    " - Chapter 2: Building Good Datasets: https://github.com/rasbt/python-machine-learning-book-2nd-edition/blob/master/code/ch04/ch04.ipynb"
   ]
  },
  {
   "cell_type": "markdown",
   "metadata": {
    "slideshow": {
     "slide_type": "slide"
    }
   },
   "source": [
    "# Motivation\n",
    "Most of you taking this class are rightfully excited to learn about new tools and algorithms to analyzing your data. This lecture is a bit of an anomaly and perhaps disappointment because it doesn't cover any algorithms, or tools.\n",
    "- So you might ask, why are we spending so much time on datasets?\n",
    "- You already collected data (sometimes lots of it) that is why you took this class?!"
   ]
  },
  {
   "cell_type": "markdown",
   "metadata": {
    "slideshow": {
     "slide_type": "subslide"
    }
   },
   "source": [
    "![Sean Taylor (Research Scientist at Facebook)](../common/figures/data_tweet.jpg)"
   ]
  },
  {
   "cell_type": "markdown",
   "metadata": {
    "slideshow": {
     "slide_type": "subslide"
    }
   },
   "source": [
    "![Andrej Karpathy (Director of AI at Tesla)](../common/figures/karpathy_slide.jpg)"
   ]
  },
  {
   "cell_type": "markdown",
   "metadata": {
    "slideshow": {
     "slide_type": "subslide"
    }
   },
   "source": [
    "![Kathy Scott (Image Analytics Lead at Planet Labs)](../common/figures/kathy_tweet.png)"
   ]
  },
  {
   "cell_type": "markdown",
   "metadata": {
    "slideshow": {
     "slide_type": "subslide"
    }
   },
   "source": [
    "## Data is important\n",
    "It probably [isn't the _new_ oil](https://www.forbes.com/sites/bernardmarr/2018/03/05/heres-why-data-is-not-the-new-oil/), but it forms an essential component for building modern tools today.\n",
    "- Testing good algorithms *requires* good data\n",
    " - If you don't know what to expect how do you know your algorithm worked?\n",
    " - If you have dozens of edge cases how can you make sure it works on each one?\n",
    " - If a new algorithm is developed every few hours, how can you be confident they actually work better (facebook's site has a new version multiple times per day and their app every other day)\n",
    "\n",
    "- For machine learning, even building requires good data\n",
    " - If you count cells maybe you can write your own algorithm,\n",
    " - but if you are trying to detect subtle changes in cell structure that indicate cancer you probably can't write a list of simple mathematical rules yourself."
   ]
  },
  {
   "cell_type": "markdown",
   "metadata": {
    "slideshow": {
     "slide_type": "subslide"
    }
   },
   "source": [
    "## Data is reusable\n",
    "Well organized and structure data is very easy to reuse. Another project can easily combine your data with their data in order to get even better results.\n",
    "- Algorithms are messy, complicated, poorly written, ... (especially so if written by students trying to graduate on time)"
   ]
  },
  {
   "cell_type": "markdown",
   "metadata": {
    "slideshow": {
     "slide_type": "slide"
    }
   },
   "source": [
    "# Famous Datasets\n",
    "The primary success of datasets has been shown through the most famous datasets collected. Here I show 2 of the most famous general datasets and one of the most famous medical datasets. The famous datasets are important for "
   ]
  },
  {
   "cell_type": "markdown",
   "metadata": {
    "slideshow": {
     "slide_type": "subslide"
    }
   },
   "source": [
    "- [MNIST Digits](http://yann.lecun.com/exdb/mnist/)\n",
    " - Modified NIST (National Institute of Standards and Technology) created a list of handwritten digits\n",
    " - ![Digits](https://raw.githubusercontent.com/yashk2810/yashk2810.github.io/master/images/mnist.png)"
   ]
  },
  {
   "cell_type": "markdown",
   "metadata": {
    "slideshow": {
     "slide_type": "subslide"
    }
   },
   "source": [
    "- [ImageNet](http://www.image-net.org)\n",
    " - ImageNet is an image database organized according to the WordNet hierarchy (currently only the nouns), in which each node of the hierarchy is depicted by hundreds and thousands of images.\n",
    " - 1000 different categories and >1M images.\n",
    " - Not just dog/cat, but wolf vs german shepard, \n",
    " \n",
    "![Performance](https://cdn-images-1.medium.com/max/1600/1*DBXf6dzNB78QPHGDofHA4Q.png)\n"
   ]
  },
  {
   "cell_type": "markdown",
   "metadata": {
    "slideshow": {
     "slide_type": "subslide"
    }
   },
   "source": [
    "- [BRATS](http://braintumorsegmentation.org) \n",
    " - Segmenting Tumors in Multimodal MRI Brain Images.\n",
    " - ![Sample](https://www.med.upenn.edu/sbia/assets/user-content/BRATS_tasks.png)\n"
   ]
  },
  {
   "cell_type": "markdown",
   "metadata": {
    "slideshow": {
     "slide_type": "subslide"
    }
   },
   "source": [
    "## What story did these datasets tell?\n",
    "Each of these datasets is very different from images with fewer than 1000 pixels to images with more than 100MPx, but what they have in common is how their analysis has changed.\n",
    "### Hand-crafted features\n",
    "All of these datasets used to be analyzed by domain experts with hand-crafted features. \n",
    "- A handwriting expert using graph topology to assign images to digits\n",
    "- A computer vision expert using gradients common in faces to identify people in ImageNet\n",
    "- A biomedical engineer using knowledge of different modalities to fuse them together and cluster healthy and tumorous tissue\n",
    "\n",
    "### Machine Learning / Deep Learning\n",
    "Starting in the early 2010s, the approaches of deep learning began to improve and become more computationally efficient. With these techniques groups with absolutely no domain knowledge could begin building algorithms and winning contests based on these datasets"
   ]
  },
  {
   "cell_type": "markdown",
   "metadata": {
    "slideshow": {
     "slide_type": "subslide"
    }
   },
   "source": [
    "## So Deep Learning always wins? \n",
    "No, that isn't the point of this lecture. Even if you aren't using deep learning the point of these stories is having well-labeled, structured, and organized datasets makes your problem a lot more accessible for other groups and enables a variety of different approaches to be tried. Ultimately it enables better solutions to be made and you to be confident that the solutions are in fact better"
   ]
  },
  {
   "cell_type": "markdown",
   "metadata": {
    "slideshow": {
     "slide_type": "subslide"
    }
   },
   "source": [
    "## Other Datasets\n",
    "- Grand-Challenge.org a large number of challenges in the biomedical area\n",
    "- [Kaggle Datasets](https://www.kaggle.com/datasets]\n",
    "- Google Dataset Search\n"
   ]
  },
  {
   "cell_type": "markdown",
   "metadata": {
    "slideshow": {
     "slide_type": "slide"
    }
   },
   "source": [
    "# What makes a good dataset?\n",
    "\n",
    "- Lots of images\n",
    " - Small datasets can be useful but here the bigger the better\n",
    " - Particularly if you have complicated problems and/or very subtle differences (ie a lung tumor looks mostly like normal lung tissue but it is in a place it shouldn't be)\n",
    "- Lots of diversity\n",
    " - Is it what data 'in the wild' really looks like?\n",
    " - Lots of different scanners/reconstruction algorithms, noise, illumination types, rotation, colors, ...\n",
    " - Many examples from different categories (if you only have one male with breast cancer it will be hard to generalize exactly what that looks like)\n",
    "- Meaningful labels\n",
    " - Clear task or question\n",
    " - Unambiguous (would multiple different labelers come to the same conclusion)\n",
    " - Able to be derived from the image alone (a label that someone cannot afford insurance is interesting but it would be nearly impossible to determine that from an X-ray of their lungs)\n",
    " - Quantiative!\n",
    " - Non-obvious (a label saying an image is bright is not a helpful label because you could look at the histogram and say that)"
   ]
  },
  {
   "cell_type": "markdown",
   "metadata": {
    "slideshow": {
     "slide_type": "slide"
    }
   },
   "source": [
    "# Types of Datasets\n",
    "- Classification\n",
    " - Taking an image and putting it into a category\n",
    " - Each image should have exactly one category\n",
    " - The categories should be non-ordered\n",
    " - Example: \n",
    "   - Cat vs Dog\n",
    "   - Cancer vs Healthy\n",
    "- Regression\n",
    " - Taking an image and predicting one (or more) decimal values\n",
    " - Examples: \n",
    "   - Value of a house from the picture taken by owner\n",
    "   - Risk of hurricane from satellite image\n",
    "- Segmentation\n",
    " - Taking an image and predicting one (or more) values for each pixel\n",
    " - Every pixel needs a label (and a pixel cannot have multiple labels)\n",
    " - Typically limited to a few (<20) different types of objects\n",
    " - Examples:\n",
    "     - Where a tumor is from an image of the lungs\n",
    "     - Where streets are from satellite images of a neighborhood\n",
    "- Detection\n",
    " - Taking an image and predicting where and which type of objects appear\n",
    " - Generally bounding box rather then specific pixels\n",
    " - Multiple objects can overlap\n",
    "- Other\n",
    " - Unlimited possibilities [here](https://junyanz.github.io/CycleGAN/)\n",
    " - Horses to Zebras "
   ]
  },
  {
   "cell_type": "markdown",
   "metadata": {
    "slideshow": {
     "slide_type": "slide"
    }
   },
   "source": [
    "# Exploring Datasets\n",
    "Here we explore a few datasets and see the effect of \n",
    "- imbalance\n",
    "- too few examples\n",
    "- too homogenous \n",
    "- and other possible problems\n"
   ]
  },
  {
   "cell_type": "code",
   "execution_count": null,
   "metadata": {
    "scrolled": false,
    "slideshow": {
     "slide_type": "subslide"
    }
   },
   "outputs": [],
   "source": [
    "%matplotlib inline\n",
    "from skimage.util import montage as montage2d\n",
    "from keras.datasets import mnist\n",
    "import matplotlib.pyplot as plt\n",
    "import numpy as np\n",
    "(img, label), _ = mnist.load_data()\n",
    "fig, (ax1, ax2) = plt.subplots(2, 1, figsize=(8, 16))\n",
    "ax1.imshow(montage2d(img[:64]), cmap='gray')\n",
    "ax2.hist(label[:64], np.arange(10));"
   ]
  },
  {
   "cell_type": "code",
   "execution_count": null,
   "metadata": {},
   "outputs": [],
   "source": []
  },
  {
   "cell_type": "code",
   "execution_count": null,
   "metadata": {},
   "outputs": [],
   "source": []
  }
 ],
 "metadata": {
  "celltoolbar": "Slideshow",
  "kernelspec": {
   "display_name": "Python 3",
   "language": "python",
   "name": "python3"
  },
  "language_info": {
   "codemirror_mode": {
    "name": "ipython",
    "version": 3
   },
   "file_extension": ".py",
   "mimetype": "text/x-python",
   "name": "python",
   "nbconvert_exporter": "python",
   "pygments_lexer": "ipython3",
   "version": "3.6.7"
  },
  "livereveal": {
   "autolaunch": true,
   "scroll": true
  }
 },
 "nbformat": 4,
 "nbformat_minor": 2
}
