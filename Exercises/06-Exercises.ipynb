{
 "cells": [
  {
   "cell_type": "markdown",
   "metadata": {
    "_cell_guid": "9ea552dc-2ab8-a0ac-dda5-dd7c385a1d3a"
   },
   "source": [
    "# Introduction\n",
    "Here we process the data from the electron microscopy 3D dataset, the first lines automatically download it if you have Kaggle setup otherwise you can download the dataset [here](https://www.kaggle.com/kmader/electron-microscopy-3d-segmentation/data)"
   ]
  },
  {
   "cell_type": "code",
   "execution_count": null,
   "metadata": {},
   "outputs": [
    {
     "name": "stdout",
     "output_type": "stream",
     "text": [
      "Downloading electron-microscopy-3d-segmentation.zip to emdata\n",
      "  8%|███▏                                    | 17.0M/215M [00:56<07:31, 459kB/s]"
     ]
    }
   ],
   "source": [
    "import os\n",
    "if not os.path.exists('input'):\n",
    "    !kaggle datasets download -d kmader/electron-microscopy-3d-segmentation -wp emdata\n",
    "    !mkdir input\n",
    "    !mv emdata/* input"
   ]
  },
  {
   "cell_type": "code",
   "execution_count": null,
   "metadata": {
    "_cell_guid": "f7ca9567-9c3e-f6a9-075c-216307025533"
   },
   "outputs": [],
   "source": [
    "%matplotlib inline\n",
    "from skimage.io import imread # for reading images\n",
    "import matplotlib.pyplot as plt # for showing plots\n",
    "from skimage.measure import label # for labeling regions\n",
    "from skimage.measure import regionprops # for shape analysis\n",
    "import numpy as np # for matrix operations and array support\n",
    "from skimage.color import label2rgb # for making overlay plots\n",
    "import matplotlib.patches as mpatches # for showing rectangles and annotations"
   ]
  },
  {
   "cell_type": "markdown",
   "metadata": {
    "_cell_guid": "ffbd3d02-e49a-23e9-7789-b91f88cff3cf"
   },
   "source": [
    "# Connected Component Labeling\n",
    "scikit-image has basic support for [connected component labeling](http://scikit-image.org/docs/dev/api/skimage.measure.html#skimage.measure.label) and we can do some small demos with the label function and small test images, before moving onto bigger datasets. \n",
    "\n",
    "## Neighborhood\n",
    "In the course we use the term neighborhood and here we use the term ```connectivity``` for the same idea. \n",
    "\n",
    " - For a 2D image a connectivity = 1 is just the 4-neighborhood (or pixels that share an edge, connectivity = 2 is then 8-neighborhood (or pixels that share a vertex)."
   ]
  },
  {
   "cell_type": "code",
   "execution_count": null,
   "metadata": {
    "_cell_guid": "bc5c886a-18a9-3abf-7b51-ea8df86530af"
   },
   "outputs": [],
   "source": [
    "# simple test image diagonal\n",
    "test_img=np.eye(4)\n",
    "print('Input Image')\n",
    "print(test_img)\n",
    "\n",
    "test_label_4=label(test_img,connectivity=1)\n",
    "print('Labels with 4-neighborhood')\n",
    "print(test_label_4)\n",
    "\n",
    "test_label_8=label(test_img,connectivity=2)\n",
    "print('Labels with 8-neighborhood')\n",
    "print(test_label_8)"
   ]
  },
  {
   "cell_type": "markdown",
   "metadata": {
    "_cell_guid": "ca54e2df-8d90-3ef8-2f96-dd7d1ba4ab1a"
   },
   "source": [
    "## 3D Neighborhood\n",
    "\n",
    "For a 3D image a connectivity = 1 is just the 6-neighborhood (or voxels that share an face, connectivity = 2 is then voxels that share an edge and 3 is voxels that share a vertex"
   ]
  },
  {
   "cell_type": "code",
   "execution_count": null,
   "metadata": {
    "_cell_guid": "a49571af-5e81-6c7f-6354-336e4968b0ac"
   },
   "outputs": [],
   "source": [
    "test_img=np.array([1 if x in [0,13,26] else 0 for x in range(27)]).reshape((3,3,3))\n",
    "print('Input Image')\n",
    "print(test_img)\n",
    "\n",
    "test_label_1=label(test_img,connectivity=1)\n",
    "print('Labels with Face-sharing')\n",
    "print(test_label_1)\n",
    "\n",
    "test_label_2=label(test_img,connectivity=2)\n",
    "print('Labels with Edge-Sharing')\n",
    "print(test_label_2)\n",
    "\n",
    "test_label_3=label(test_img,connectivity=3)\n",
    "print('Labels with Vertex-Sharing')\n",
    "print(test_label_3)"
   ]
  },
  {
   "cell_type": "code",
   "execution_count": null,
   "metadata": {
    "_cell_guid": "bca1bf58-37f9-db1f-4444-8960a7d4b0cd"
   },
   "outputs": [],
   "source": [
    "import os, numpy as np\n",
    "def imread_or_invent(in_path):\n",
    "    np.random.seed(2018)\n",
    "    if os.path.exists(in_path):\n",
    "        return imread(in_path)\n",
    "    else:\n",
    "        print('Getting creative...')\n",
    "        fake_shape = (10, 50, 75)\n",
    "        if 'groundtruth' in in_path:\n",
    "            return (np.random.uniform(0, 1, size = fake_shape)>0.99).astype(int)\n",
    "        else:\n",
    "            return np.random.uniform(0, 1, size = fake_shape)\n",
    "        \n",
    "em_image_vol = imread_or_invent('input/training.tif')\n",
    "em_thresh_vol = imread_or_invent('input/training_groundtruth.tif')\n",
    "print(\"Data Loaded, Dimensions\", em_image_vol.shape,'->',em_thresh_vol.shape)"
   ]
  },
  {
   "cell_type": "markdown",
   "metadata": {
    "_cell_guid": "160081b9-ab62-e268-50f5-6d34053f79d8"
   },
   "source": [
    "# 2D Analysis\n",
    "Here we work with a single 2D slice to get started and take it randomly from the middle"
   ]
  },
  {
   "cell_type": "code",
   "execution_count": null,
   "metadata": {
    "_cell_guid": "be4e88a3-8b8c-9fa0-acd9-8297b8e282df"
   },
   "outputs": [],
   "source": [
    "em_idx = np.random.permutation(range(em_image_vol.shape[0]))[0]\n",
    "em_slice = em_image_vol[em_idx]\n",
    "em_thresh = em_thresh_vol[em_idx]\n",
    "print(\"Slice Loaded, Dimensions\", em_slice.shape)"
   ]
  },
  {
   "cell_type": "code",
   "execution_count": null,
   "metadata": {
    "_cell_guid": "d3fe48c8-ebb3-af65-777a-c8d638946072"
   },
   "outputs": [],
   "source": [
    "# show the slice and threshold\n",
    "fig, (ax1, ax2, ax3) = plt.subplots(1,3, figsize = (9, 4))\n",
    "ax1.imshow(em_slice, cmap = 'gray')\n",
    "ax1.axis('off')\n",
    "ax1.set_title('Image')\n",
    "ax2.imshow(em_thresh, cmap = 'gray')\n",
    "ax2.axis('off')\n",
    "ax2.set_title('Segmentation')\n",
    "# here we mark the threshold on the original image\n",
    "\n",
    "ax3.imshow(label2rgb(em_thresh,em_slice, bg_label=0))\n",
    "ax3.axis('off')\n",
    "ax3.set_title('Overlayed');"
   ]
  },
  {
   "cell_type": "code",
   "execution_count": null,
   "metadata": {
    "_cell_guid": "574c1696-a1fc-2267-db34-ec0b4b310672"
   },
   "outputs": [],
   "source": [
    "# make connected component labels\n",
    "em_label = label(em_thresh)\n",
    "print(em_label.max(), 'number of labels')\n",
    "# show the segmentation, labels and overlay\n",
    "fig, (ax1, ax2, ax3) = plt.subplots(1,3, figsize = (9, 4))\n",
    "ax1.imshow(em_thresh, cmap = 'gray')\n",
    "ax1.axis('off')\n",
    "ax1.set_title('Segmentation')\n",
    "ax2.imshow(em_label, cmap = plt.cm.gist_earth)\n",
    "ax2.axis('off')\n",
    "ax2.set_title('Labeling')\n",
    "# here we mark the threshold on the original image\n",
    "\n",
    "ax3.imshow(label2rgb(em_label,em_slice, bg_label=0))\n",
    "ax3.axis('off')\n",
    "ax3.set_title('Overlayed');"
   ]
  },
  {
   "cell_type": "markdown",
   "metadata": {
    "_cell_guid": "cfabd782-de43-ea00-856a-b0cbb755ca1a"
   },
   "source": [
    "# Shape Analysis \n",
    "For shape analysis we use the regionprops function which calculates the area, perimeter, and other features for a shape. The analysis creates a list of these with one for each label in the original image."
   ]
  },
  {
   "cell_type": "code",
   "execution_count": null,
   "metadata": {
    "_cell_guid": "f924cdaf-2d55-5089-51b9-8aa6ec820a3b"
   },
   "outputs": [],
   "source": [
    "shape_analysis_list = regionprops(em_label)\n",
    "first_region = shape_analysis_list[0]\n",
    "print('List of region properties for',len(shape_analysis_list), 'regions')\n",
    "print('Features Calculated:',', '.join([f for f in dir(first_region) if not f.startswith('_')]))"
   ]
  },
  {
   "cell_type": "code",
   "execution_count": null,
   "metadata": {
    "_cell_guid": "5cc2bacc-26d5-e55a-8e64-caadaf3010d8"
   },
   "outputs": [],
   "source": [
    "fig, ax = plt.subplots(figsize=(10, 6))\n",
    "ax.imshow(label2rgb(em_label,em_slice, bg_label=0))\n",
    "\n",
    "for region in shape_analysis_list:\n",
    "    # draw rectangle using the bounding box\n",
    "    minr, minc, maxr, maxc = region.bbox\n",
    "    rect = mpatches.Rectangle((minc, minr), maxc - minc, maxr - minr,\n",
    "                              fill=False, edgecolor='red', linewidth=2)\n",
    "    ax.add_patch(rect)\n",
    "\n",
    "ax.set_axis_off()\n",
    "plt.tight_layout()"
   ]
  },
  {
   "cell_type": "markdown",
   "metadata": {
    "_cell_guid": "4b59cd5a-2c6f-75eb-a90a-993dd484d1be"
   },
   "source": [
    "## Anisotropy\n",
    "We can calculate anisotropy as we did in the course by using the largest and shortest lengths, called here as ```major_axis_length``` and ```minor_axis_length``` respectively\n",
    "\n",
    "- Try using different formulas for anisotropy to see how it changes what is shown\n",
    "\n",
    "$$ Aiso1 = \\frac{\\text{Longest Side}}{\\text{Shortest Side}} - 1 $$\n",
    "\n",
    "$$ Aiso2 = \\frac{\\text{Longest Side}-\\text{Shortest Side}}{\\text{Longest Side}} $$\n",
    "\n",
    "$$ Aiso3 = \\frac{\\text{Longest Side}}{\\text{Average Side Length}} - 1 $$\n",
    "\n",
    "$$ Aiso4 = \\frac{\\text{Longest Side}-\\text{Shortest Side}}{\\text{Average Side Length}} $$"
   ]
  },
  {
   "cell_type": "code",
   "execution_count": null,
   "metadata": {
    "_cell_guid": "3954c870-771c-7c9a-ca4b-6ed302ff5d67"
   },
   "outputs": [],
   "source": [
    "fig, ax = plt.subplots(figsize=(10, 6))\n",
    "ax.imshow(label2rgb(em_label,em_slice, bg_label=0))\n",
    "\n",
    "for region in shape_analysis_list:\n",
    "    x1=region.major_axis_length\n",
    "    x2=region.minor_axis_length\n",
    "    anisotropy = (x1-x2)/np.clip(x1+x2, 0.1, 9999)\n",
    "    # for anisotropic shapes use red for the others use blue\n",
    "    print('Label:',region.label,'Anisotropy %2.2f' % anisotropy)\n",
    "    if anisotropy>0.1:\n",
    "        minr, minc, maxr, maxc = region.bbox\n",
    "        rect = mpatches.Rectangle((minc, minr), maxc - minc, maxr - minr,\n",
    "                              fill=False, edgecolor='red', linewidth=2)\n",
    "        ax.add_patch(rect)\n",
    "    else:\n",
    "        minr, minc, maxr, maxc = region.bbox\n",
    "        rect = mpatches.Rectangle((minc, minr), maxc - minc, maxr - minr,\n",
    "                              fill=False, edgecolor='green', linewidth=2)\n",
    "        ax.add_patch(rect)\n",
    "\n",
    "ax.set_axis_off()\n",
    "plt.tight_layout()"
   ]
  },
  {
   "cell_type": "markdown",
   "metadata": {
    "_cell_guid": "fcfdd250-2824-6ba1-6cf3-1698ef431733"
   },
   "source": [
    "# Tasks\n",
    "- Perform the analysis in 3D\n",
    "- Find the largest and smallest structures\n",
    "- Find the structures with the highest and lowest 3D anisotropy"
   ]
  },
  {
   "cell_type": "code",
   "execution_count": null,
   "metadata": {
    "_cell_guid": "aa1033ba-0c78-71f9-4718-518f6e7ca155"
   },
   "outputs": [],
   "source": []
  }
 ],
 "metadata": {
  "_change_revision": 71,
  "_is_fork": false,
  "kernelspec": {
   "display_name": "Python 3",
   "language": "python",
   "name": "python3"
  },
  "language_info": {
   "codemirror_mode": {
    "name": "ipython",
    "version": 3
   },
   "file_extension": ".py",
   "mimetype": "text/x-python",
   "name": "python",
   "nbconvert_exporter": "python",
   "pygments_lexer": "ipython3",
   "version": "3.6.7"
  }
 },
 "nbformat": 4,
 "nbformat_minor": 1
}
